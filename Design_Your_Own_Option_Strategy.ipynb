{
  "nbformat": 4,
  "nbformat_minor": 0,
  "metadata": {
    "colab": {
      "name": "Design Your Own Option Strategy.ipynb",
      "provenance": [],
      "collapsed_sections": []
    },
    "kernelspec": {
      "name": "python3",
      "display_name": "Python 3"
    },
    "language_info": {
      "name": "python"
    }
  },
  "cells": [
    {
      "cell_type": "code",
      "source": [
        "pip install xlrd"
      ],
      "metadata": {
        "colab": {
          "base_uri": "https://localhost:8080/"
        },
        "id": "8zNDH5rYqmef",
        "outputId": "852e8612-af9d-48b0-aa17-7969bde950ed"
      },
      "execution_count": null,
      "outputs": [
        {
          "output_type": "stream",
          "name": "stdout",
          "text": [
            "Requirement already satisfied: xlrd in /usr/local/lib/python3.7/dist-packages (1.1.0)\n"
          ]
        }
      ]
    },
    {
      "cell_type": "code",
      "source": [
        "pip install xlwt"
      ],
      "metadata": {
        "colab": {
          "base_uri": "https://localhost:8080/"
        },
        "id": "acrquyBvqwU-",
        "outputId": "ed0f7525-05b9-4c33-bf3c-32b7c6229450"
      },
      "execution_count": null,
      "outputs": [
        {
          "output_type": "stream",
          "name": "stdout",
          "text": [
            "Requirement already satisfied: xlwt in /usr/local/lib/python3.7/dist-packages (1.3.0)\n"
          ]
        }
      ]
    },
    {
      "cell_type": "code",
      "source": [
        "from google.colab import drive\n",
        "drive.mount('/content/drive')"
      ],
      "metadata": {
        "colab": {
          "base_uri": "https://localhost:8080/"
        },
        "id": "sx07mow07aXd",
        "outputId": "46ba2d58-368d-40d1-a99b-e35ecdfbc797"
      },
      "execution_count": null,
      "outputs": [
        {
          "output_type": "stream",
          "name": "stdout",
          "text": [
            "Drive already mounted at /content/drive; to attempt to forcibly remount, call drive.mount(\"/content/drive\", force_remount=True).\n"
          ]
        }
      ]
    },
    {
      "cell_type": "code",
      "execution_count": null,
      "metadata": {
        "colab": {
          "base_uri": "https://localhost:8080/"
        },
        "id": "7zrpj_A4CTcx",
        "outputId": "b2eb01e6-bcca-4189-9b07-eb8fe4b6e96a"
      },
      "outputs": [
        {
          "output_type": "stream",
          "name": "stdout",
          "text": [
            " Current Market Price 25.9\n",
            " Interval 2\n",
            " Put Option Exercise Price 28.38\n",
            " Put Premium 1.55\n",
            " Long/Short (Please Enter Long Or Short) Short\n",
            "Calculate in progres...\n",
            "Calculate basic data\n",
            "Market Price: 26.00\n",
            "Intrinsic Value: 0\n",
            "Option Premium: 1.55\n",
            "P/L: 4.03\n",
            "Break-even Point: 24.349999999999998\n"
          ]
        }
      ],
      "source": [
        "from decimal import Decimal #Round Half Up\n",
        "\n",
        "#Current Market Price\n",
        "CMP = input (' Current Market Price ')\n",
        "\n",
        "#Interval\n",
        "Interval = input (' Interval ')\n",
        "\n",
        "#Put Option Exercise Price\n",
        "POEP = input (' Put Option Exercise Price ')\n",
        "\n",
        "#Put Premium\n",
        "PP = input (' Put Premium ')\n",
        "\n",
        "#Long / Short ?\n",
        "LS = input (' Long/Short (Please Enter Long Or Short) ')\n",
        "\n",
        "if LS != 'Long' and LS !='Short':\n",
        "   print ('Not Support, Please ReEnter')\n",
        "elif LS == 'Long' or LS == 'Short': \n",
        "   print ('Calculate in progres...')\n",
        "   print ('Calculate basic data')\n",
        "\n",
        "   if LS == 'Long':\n",
        "     print ('This one seems like have some problem, maybe need have a check')\n",
        "     # Calculate Market Price\n",
        "     MP1 = float(CMP)/float(Interval)\n",
        "     MP2 = Decimal(MP1).quantize(Decimal(\"1\"), rounding = \"ROUND_HALF_UP\")\n",
        "     MP3 = float(MP2) * float(Interval)\n",
        "     MP4 = Decimal(MP3).quantize(Decimal(\"0.01\"),rounding = \"ROUND_HALF_UP\")\n",
        "     print ('Market Price:',str(MP4))\n",
        "     # Calculate Intrinsic Value\n",
        "     if float(MP4) > float(POEP):\n",
        "       IV = float(MP4) - float(POEP)\n",
        "       print ('Intrinsic Value:',str(IV))\n",
        "     else:\n",
        "       print ('Intrinsic Value:','0')\n",
        "     # Calculate Option Premium (Get the Absolute Value)\n",
        "     OP = 0 - float(PP)\n",
        "     print ('Option Premium:',str(PP))\n",
        "     # Calculate P/L\n",
        "     PL1 = float(MP4) + float(IV) + float(OP) - float(CMP)\n",
        "     PL2 = Decimal(PL1).quantize(Decimal(\"0.01\"), rounding = \"ROUND_HALF_UP\")\n",
        "     print ('P/L',str(PL2))\n",
        "     # Calculate Break-even Point\n",
        "     BEP = float(CMP) + float(PP)\n",
        "     if float(BEP) > 0:\n",
        "       print ('Break-even Point:',str(BEP))\n",
        "     else:\n",
        "       print ('No Break-even Point')\n",
        "\n",
        "   if LS == 'Short':\n",
        "     # Calculate Market Price\n",
        "     MP1 = float(CMP)/float(Interval)\n",
        "     MP2 = Decimal(MP1).quantize(Decimal(\"1\"), rounding = \"ROUND_HALF_UP\")\n",
        "     MP3 = float(MP2) * float(Interval)\n",
        "     MP4 = Decimal(MP3).quantize(Decimal(\"0.01\"),rounding = \"ROUND_HALF_UP\")\n",
        "     print ('Market Price:',str(MP4))\n",
        "     # Calculate Intrinsic Value\n",
        "     if float(MP4) > float(POEP):\n",
        "       IV = float(POEP) - float(MP4)\n",
        "       print ('Intrinsic Value:',str(IV))\n",
        "     else:\n",
        "       IV = float(POEP) - float(MP4)\n",
        "       print ('Intrinsic Value:','0')\n",
        "     # Calculate Option Premium (Get the Absolute Value)\n",
        "     OP = float(PP)\n",
        "     print ('Option Premium:',str(PP))\n",
        "     # Calculate P/L\n",
        "     PL1 = float(MP4) + float(IV) + float(OP) - float(CMP)\n",
        "     PL2 = Decimal(PL1).quantize(Decimal(\"0.01\"), rounding = \"ROUND_HALF_UP\")\n",
        "     print ('P/L:',str(PL2))\n",
        "     # Calculate Break-even Point\n",
        "     BEP = float(CMP) - float(PP)\n",
        "     if float(BEP) > 0:\n",
        "       print ('Break-even Point:',str(BEP))\n",
        "     else:\n",
        "       print ('No Break-even Point')\n",
        "\n"
      ]
    },
    {
      "cell_type": "code",
      "source": [
        "import xlwt\n",
        "\n",
        "def write_excel():\n",
        "  workbook = xlwt.Workbook(encoding = 'ascii')\n",
        "\n",
        "  worksheet = workbook.add_sheet (\"Your Design Strategy\")\n",
        "\n",
        "  worksheet.write(0,0,\"Market Price\")\n",
        "  worksheet.write(0,1,\"P/L\")\n",
        "  worksheet.write(0,2,\"Intrinsic Value\")\n",
        "  worksheet.write(0,3,\"Option Premium\")\n",
        "  worksheet.write(1,0,str(MP4))\n",
        "  worksheet.write(1,1,str(PL2))\n",
        "  worksheet.write(1,2,str(IV))\n",
        "  worksheet.write(1,2,str(OP))\n",
        "\n",
        "  workbook.save(\"/content/drive/MyDrive/Solution.xls\")"
      ],
      "metadata": {
        "id": "TV8098pB80MU"
      },
      "execution_count": null,
      "outputs": []
    }
  ]
}